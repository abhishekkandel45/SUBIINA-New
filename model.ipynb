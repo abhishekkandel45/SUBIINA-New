{
  "cells": [
    {
      "cell_type": "code",
      "execution_count": 37,
      "metadata": {
        "colab": {
          "base_uri": "https://localhost:8080/"
        },
        "id": "p3fBFd_oBkAD",
        "outputId": "d46f4b56-940b-4329-c096-bb4905712ab9"
      },
      "outputs": [
        {
          "output_type": "stream",
          "name": "stdout",
          "text": [
            "Drive already mounted at /content/drive; to attempt to forcibly remount, call drive.mount(\"/content/drive\", force_remount=True).\n"
          ]
        }
      ],
      "source": [
        "from google.colab import drive\n",
        "drive.mount('/content/drive')"
      ]
    },
    {
      "cell_type": "code",
      "execution_count": 38,
      "metadata": {
        "id": "UyVTaW1Pm_Fr",
        "colab": {
          "base_uri": "https://localhost:8080/"
        },
        "outputId": "8fb962ec-c297-4504-f834-98f169a2c97d"
      },
      "outputs": [
        {
          "output_type": "stream",
          "name": "stdout",
          "text": [
            "Requirement already satisfied: python_speech_features in /usr/local/lib/python3.10/dist-packages (0.6)\n"
          ]
        }
      ],
      "source": [
        "!pip install python_speech_features"
      ]
    },
    {
      "cell_type": "code",
      "execution_count": 39,
      "metadata": {
        "id": "y_Zw5LWhBkvJ"
      },
      "outputs": [],
      "source": [
        "import zipfile\n",
        "Cleaned ='./drive/MyDrive/RAV_TESS.zip'\n",
        "zip_ref=zipfile.ZipFile(Cleaned,'r')\n",
        "zip_ref.extractall('./')\n",
        "zip_ref.close()"
      ]
    },
    {
      "cell_type": "code",
      "execution_count": 40,
      "metadata": {
        "id": "i94uzBTq_bSv"
      },
      "outputs": [],
      "source": [
        "import os\n",
        "from scipy.io import wavfile\n",
        "import pandas as pd\n",
        "import matplotlib.pyplot as plt\n",
        "import numpy as np\n",
        "from keras.layers import Conv2D, MaxPooling2D, Flatten, LSTM\n",
        "from keras.layers import Dropout, Dense, TimeDistributed, Reshape, BatchNormalization\n",
        "from keras.models import Sequential\n",
        "from keras.utils import to_categorical\n",
        "from keras.losses import categorical_crossentropy\n",
        "from keras.optimizers import Adam\n",
        "from sklearn.utils.class_weight import compute_class_weight\n",
        "from tqdm import tqdm\n",
        "from python_speech_features import mfcc\n",
        "import pickle\n",
        "from keras.callbacks import ModelCheckpoint\n",
        "from tensorflow.keras.optimizers import Adam\n",
        "from keras.regularizers import l2, l1"
      ]
    },
    {
      "cell_type": "code",
      "execution_count": 41,
      "metadata": {
        "id": "SuUMvzxlYZT8"
      },
      "outputs": [],
      "source": [
        "num_labels = 7\n",
        "batch_size = 128\n",
        "width, height = 48, 48"
      ]
    },
    {
      "cell_type": "code",
      "execution_count": 42,
      "metadata": {
        "id": "CRc8AaIyAA0-"
      },
      "outputs": [],
      "source": [
        "df = pd.read_csv('./drive/MyDrive/RAV_TESS_mapping.csv')\n",
        "df.set_index('fname', inplace=True)"
      ]
    },
    {
      "cell_type": "code",
      "execution_count": 43,
      "metadata": {
        "id": "T7RR9oyuETnk"
      },
      "outputs": [],
      "source": [
        "for f in df.index:\n",
        "  rate,signal = wavfile.read('./RAV_TESS/'+f)\n",
        "  df.at[f,'length']=signal.shape[0]/rate"
      ]
    },
    {
      "cell_type": "code",
      "execution_count": 44,
      "metadata": {
        "id": "iSw6PBZYKyfj"
      },
      "outputs": [],
      "source": [
        "df.rename(columns = {' label':'label'}, inplace = True)"
      ]
    },
    {
      "cell_type": "code",
      "execution_count": 45,
      "metadata": {
        "id": "vDWZiiJZKdNL"
      },
      "outputs": [],
      "source": [
        "classes = list(np.unique(df.label))\n",
        "class_dist = df.groupby(['label'])['length'].mean()"
      ]
    },
    {
      "cell_type": "code",
      "execution_count": 46,
      "metadata": {
        "id": "XPvm2XNHKo-_",
        "colab": {
          "base_uri": "https://localhost:8080/"
        },
        "outputId": "bd0e4b0f-ebad-481b-a735-884fafcff701"
      },
      "outputs": [
        {
          "output_type": "execute_result",
          "data": {
            "text/plain": [
              "label\n",
              "angry        1.906175\n",
              "disgust      2.271124\n",
              "fearful      1.756030\n",
              "happy        1.921697\n",
              "neutral      1.953903\n",
              "sad          2.192920\n",
              "surprised    1.876862\n",
              "Name: length, dtype: float64"
            ]
          },
          "metadata": {},
          "execution_count": 46
        }
      ],
      "source": [
        "class_dist"
      ]
    },
    {
      "cell_type": "code",
      "execution_count": 47,
      "metadata": {
        "id": "VF-HIH-4K0M5",
        "colab": {
          "base_uri": "https://localhost:8080/",
          "height": 465
        },
        "outputId": "8f024200-53a5-42d8-efd8-03d4a07e8e3d"
      },
      "outputs": [
        {
          "output_type": "display_data",
          "data": {
            "text/plain": [
              "<Figure size 640x480 with 1 Axes>"
            ],
            "image/png": "[encoded data removed]"
          },
          "metadata": {}
        }
      ],
      "source": [
        "fig, ax = plt.subplots()\n",
        "ax.set_title('Class Distribution', y=1.08)\n",
        "ax.pie(class_dist, labels=class_dist.index, autopct='%1.1f%%', shadow=False, startangle=90)\n",
        "ax.axis('equal')\n",
        "plt.show()"
      ]
    },
    {
      "cell_type": "code",
      "execution_count": 48,
      "metadata": {
        "id": "oSaeM-PELGDm",
        "colab": {
          "base_uri": "https://localhost:8080/",
          "height": 36
        },
        "outputId": "68968c04-649e-45e5-d4be-dba9207f6c4b"
      },
      "outputs": [
        {
          "output_type": "execute_result",
          "data": {
            "text/plain": [
              "'disgust'"
            ],
            "application/vnd.google.colaboratory.intrinsic+json": {
              "type": "string"
            }
          },
          "metadata": {},
          "execution_count": 48
        }
      ],
      "source": [
        "n_samples = 2*int(df['length'].sum()/0.1)\n",
        "prob_dist = class_dist/class_dist.sum()\n",
        "choices = np.random.choice(class_dist.index, p=prob_dist)\n",
        "choices"
      ]
    },
    {
      "cell_type": "code",
      "execution_count": 49,
      "metadata": {
        "id": "6_fb6e5zPKGO",
        "colab": {
          "base_uri": "https://localhost:8080/"
        },
        "outputId": "337099a6-7c9f-4cb1-b392-8da8fbe53c36"
      },
      "outputs": [
        {
          "output_type": "execute_result",
          "data": {
            "text/plain": [
              "label\n",
              "angry        0.137345\n",
              "disgust      0.163641\n",
              "fearful      0.126527\n",
              "happy        0.138464\n",
              "neutral      0.140784\n",
              "sad          0.158006\n",
              "surprised    0.135233\n",
              "Name: length, dtype: float64"
            ]
          },
          "metadata": {},
          "execution_count": 49
        }
      ],
      "source": [
        "prob_dist"
      ]
    },
    {
      "cell_type": "code",
      "execution_count": 50,
      "metadata": {
        "id": "4Hfld1rxSfwp",
        "colab": {
          "base_uri": "https://localhost:8080/"
        },
        "outputId": "9bf77625-5a79-49dc-c019-69ad3309fc8d"
      },
      "outputs": [
        {
          "output_type": "stream",
          "name": "stdout",
          "text": [
            "mkdir: cannot create directory ‘models’: File exists\n"
          ]
        }
      ],
      "source": [
        "!mkdir models"
      ]
    },
    {
      "cell_type": "code",
      "execution_count": 51,
      "metadata": {
        "id": "r1R8Bd5YSiqT",
        "colab": {
          "base_uri": "https://localhost:8080/"
        },
        "outputId": "a8d8f93d-03b3-4773-a73f-ea2f9910942e"
      },
      "outputs": [
        {
          "output_type": "stream",
          "name": "stdout",
          "text": [
            "mkdir: cannot create directory ‘pickles’: File exists\n"
          ]
        }
      ],
      "source": [
        "!mkdir pickles"
      ]
    },
    {
      "cell_type": "code",
      "execution_count": 52,
      "metadata": {
        "id": "3xKdVieEPPPP"
      },
      "outputs": [],
      "source": [
        "class Config:\n",
        "  def __init__(self, mode='conv', nfilt=26, nfeat=13, nfft=512, rate=16000):\n",
        "    self.mode=mode\n",
        "    self.nfilt=nfilt\n",
        "    self.nfeat=nfeat\n",
        "    self.nfft = nfft\n",
        "    self.rate=rate\n",
        "    self.step=int(rate/10)\n",
        "    self.model_path = os.path.join('models', mode + '.model')\n",
        "    self.p_path = os.path.join('pickles', mode + '.p')"
      ]
    },
    {
      "cell_type": "code",
      "execution_count": 53,
      "metadata": {
        "id": "qZ_BmQXpQ0V4"
      },
      "outputs": [],
      "source": [
        "config = Config(mode='conv')"
      ]
    },
    {
      "cell_type": "code",
      "execution_count": 54,
      "metadata": {
        "id": "QBmOyJLCNCZo"
      },
      "outputs": [],
      "source": [
        "def get_conv_model():\n",
        "    model = Sequential()\n",
        "\n",
        "    model.add(Conv2D(256, (3, 3), activation='relu', strides=(1, 1),\n",
        "                     padding='same', input_shape=input_shape))\n",
        "    model.add(BatchNormalization())\n",
        "    model.add(Conv2D(512, (3, 3), activation='relu', strides=(1, 1),\n",
        "                     padding='same'))\n",
        "    model.add(BatchNormalization())\n",
        "    model.add(MaxPooling2D((2, 2)))\n",
        "    model.add(Dropout(0.5))\n",
        "\n",
        "    model.add(Conv2D(512, (3, 3), activation='relu', strides=(1, 1),\n",
        "                     padding='same'))\n",
        "    model.add(BatchNormalization())\n",
        "    model.add(Conv2D(1024, (3, 3), activation='relu', strides=(1, 1),\n",
        "                     padding='same'))\n",
        "    model.add(BatchNormalization())\n",
        "    model.add(MaxPooling2D((2, 2)))\n",
        "    model.add(Dropout(0.5))\n",
        "\n",
        "    model.add(Conv2D(1024, (3, 3), activation='relu', strides=(1, 1),\n",
        "                     padding='same'))\n",
        "    model.add(BatchNormalization())\n",
        "    model.add(MaxPooling2D((2, 2)))\n",
        "    model.add(Dropout(0.5))\n",
        "\n",
        "    model.add(Flatten())\n",
        "\n",
        "    model.add(Dense(1024, activation='relu'))\n",
        "    model.add(BatchNormalization())\n",
        "    model.add(Dropout(0.5))\n",
        "\n",
        "    model.add(Dense(512, activation='relu'))\n",
        "    model.add(BatchNormalization())\n",
        "    model.add(Dropout(0.5))\n",
        "\n",
        "    model.add(Dense(256, activation='relu'))\n",
        "    model.add(BatchNormalization())\n",
        "    model.add(Dropout(0.5))\n",
        "\n",
        "    model.add(Dense(128, activation='relu'))\n",
        "    model.add(BatchNormalization())\n",
        "    model.add(Dropout(0.5))\n",
        "\n",
        "    model.add(Dense(64, activation='relu'))\n",
        "    model.add(BatchNormalization())\n",
        "    model.add(Dropout(0.5))\n",
        "\n",
        "    model.add(Dense(7, activation='softmax'))\n",
        "\n",
        "    model.summary()\n",
        "\n",
        "    optimizer = Adam(learning_rate=0.001)\n",
        "    model.compile(loss='categorical_crossentropy', optimizer=optimizer, metrics=['acc'])\n",
        "\n",
        "    return model\n"
      ]
    },
    {
      "cell_type": "code",
      "execution_count": 55,
      "metadata": {
        "id": "GnSI6jIWBwUT"
      },
      "outputs": [],
      "source": [
        "def get_recurrent_model():\n",
        "    # Assuming you have defined the input_shape somewhere before this function\n",
        "    model = Sequential()\n",
        "\n",
        "    # Add more LSTM layers with increased units\n",
        "    model.add(LSTM(512, return_sequences=True, input_shape=input_shape))\n",
        "    model.add(LSTM(512, return_sequences=True))\n",
        "    model.add(LSTM(512, return_sequences=True))\n",
        "\n",
        "    # Increase Dropout rate\n",
        "    model.add(Dropout(0.7))\n",
        "\n",
        "    # TimeDistributed layers with L2 regularization\n",
        "    model.add(TimeDistributed(Dense(128, activation='relu')))\n",
        "    model.add(TimeDistributed(Dense(64, activation='relu')))\n",
        "    model.add(TimeDistributed(Dense(32, activation='relu')))\n",
        "\n",
        "    # Increase Dropout rate\n",
        "    model.add(Dropout(0.7))\n",
        "\n",
        "    # Flatten layer\n",
        "    model.add(Flatten())\n",
        "\n",
        "    # Dense layer with L2 regularization and more units\n",
        "    model.add(Dense(256, activation='relu'))\n",
        "\n",
        "    # Output layer\n",
        "    model.add(Dense(7, activation='softmax'))\n",
        "\n",
        "    model.summary()\n",
        "    optimizer = Adam(learning_rate=0.001)\n",
        "\n",
        "    model.compile(loss='categorical_crossentropy', optimizer=optimizer, metrics=['acc'])\n",
        "\n",
        "    return model\n"
      ]
    },
    {
      "cell_type": "code",
      "execution_count": 56,
      "metadata": {
        "id": "5qkMjXsPUMls"
      },
      "outputs": [],
      "source": [
        "def check_data():\n",
        "  if os.path.isfile(config.p_path):\n",
        "    print('Loading existing data for {} model'.format(config.mode))\n",
        "    with open(config.p_path, 'rb') as handle:\n",
        "      tmp = pickle.load(handle)\n",
        "      return tmp\n",
        "  else:\n",
        "    return None"
      ]
    },
    {
      "cell_type": "code",
      "execution_count": 57,
      "metadata": {
        "id": "dhB6KT9JScpp"
      },
      "outputs": [],
      "source": [
        "def build_rand_feat():\n",
        "  tmp = check_data()\n",
        "  if tmp:\n",
        "    return tmp.data[0], tmp.data[1]\n",
        "  X=[]\n",
        "  y=[]\n",
        "  _min, _max = float('inf'),-float('inf')\n",
        "  for _ in tqdm(range(n_samples)):\n",
        "    rand_class=np.random.choice(class_dist.index, p=prob_dist)\n",
        "    file=np.random.choice(df[df.label==rand_class].index)\n",
        "    rate, wav = wavfile.read('RAV_TESS/'+file)\n",
        "    label=df.at[file, 'label']\n",
        "    rand_index = np.random.randint(0, wav.shape[0]-config.step)\n",
        "    sample=wav[rand_index:rand_index+config.step]\n",
        "    X_sample = mfcc(sample, rate,\n",
        "                    numcep=config.nfeat, nfilt=config.nfilt, nfft=config.nfft).T\n",
        "    _min = min(np.amin(X_sample), _min)\n",
        "    _max = max(np.amax(X_sample), _max)\n",
        "    X.append(X_sample if config.mode=='conv' else X_sample.T)\n",
        "    y.append(classes.index(label))\n",
        "  config.min=_min\n",
        "  config.max = _max\n",
        "  X, y = np.array(X), np.array(y)\n",
        "  X = (X-_min)/(_max-_min)\n",
        "  if config.mode=='conv':\n",
        "    X = X.reshape(X.shape[0],X.shape[1],X.shape[2],1)\n",
        "  elif config.mode=='time':\n",
        "    X = X.reshape(X.shape[0], X.shape[1], X.shape[2])\n",
        "  y = to_categorical(y, num_classes=7)\n",
        "  config.data = (X, y)\n",
        "  with open(config.p_path,'wb') as handle:\n",
        "    pickle.dump(config, handle, protocol=2)\n",
        "\n",
        "  return X, y\n"
      ]
    },
    {
      "cell_type": "code",
      "execution_count": 58,
      "metadata": {
        "id": "wKQg7aZ_Mw6b",
        "colab": {
          "base_uri": "https://localhost:8080/"
        },
        "outputId": "0279f580-769c-47e1-c916-2ba3ea9ccd27"
      },
      "outputs": [
        {
          "output_type": "stream",
          "name": "stderr",
          "text": [
            "100%|██████████| 151894/151894 [05:15<00:00, 480.82it/s]\n"
          ]
        },
        {
          "output_type": "stream",
          "name": "stdout",
          "text": [
            "Model: \"sequential_1\"\n",
            "_________________________________________________________________\n",
            " Layer (type)                Output Shape              Param #   \n",
            "=================================================================\n",
            " conv2d (Conv2D)             (None, 13, 9, 256)        2560      \n",
            "                                                                 \n",
            " batch_normalization (Batch  (None, 13, 9, 256)        1024      \n",
            " Normalization)                                                  \n",
            "                                                                 \n",
            " conv2d_1 (Conv2D)           (None, 13, 9, 512)        1180160   \n",
            "                                                                 \n",
            " batch_normalization_1 (Bat  (None, 13, 9, 512)        2048      \n",
            " chNormalization)                                                \n",
            "                                                                 \n",
            " max_pooling2d (MaxPooling2  (None, 6, 4, 512)         0         \n",
            " D)                                                              \n",
            "                                                                 \n",
            " dropout_2 (Dropout)         (None, 6, 4, 512)         0         \n",
            "                                                                 \n",
            " conv2d_2 (Conv2D)           (None, 6, 4, 512)         2359808   \n",
            "                                                                 \n",
            " batch_normalization_2 (Bat  (None, 6, 4, 512)         2048      \n",
            " chNormalization)                                                \n",
            "                                                                 \n",
            " conv2d_3 (Conv2D)           (None, 6, 4, 1024)        4719616   \n",
            "                                                                 \n",
            " batch_normalization_3 (Bat  (None, 6, 4, 1024)        4096      \n",
            " chNormalization)                                                \n",
            "                                                                 \n",
            " max_pooling2d_1 (MaxPoolin  (None, 3, 2, 1024)        0         \n",
            " g2D)                                                            \n",
            "                                                                 \n",
            " dropout_3 (Dropout)         (None, 3, 2, 1024)        0         \n",
            "                                                                 \n",
            " conv2d_4 (Conv2D)           (None, 3, 2, 1024)        9438208   \n",
            "                                                                 \n",
            " batch_normalization_4 (Bat  (None, 3, 2, 1024)        4096      \n",
            " chNormalization)                                                \n",
            "                                                                 \n",
            " max_pooling2d_2 (MaxPoolin  (None, 1, 1, 1024)        0         \n",
            " g2D)                                                            \n",
            "                                                                 \n",
            " dropout_4 (Dropout)         (None, 1, 1, 1024)        0         \n",
            "                                                                 \n",
            " flatten_1 (Flatten)         (None, 1024)              0         \n",
            "                                                                 \n",
            " dense_5 (Dense)             (None, 1024)              1049600   \n",
            "                                                                 \n",
            " batch_normalization_5 (Bat  (None, 1024)              4096      \n",
            " chNormalization)                                                \n",
            "                                                                 \n",
            " dropout_5 (Dropout)         (None, 1024)              0         \n",
            "                                                                 \n",
            " dense_6 (Dense)             (None, 512)               524800    \n",
            "                                                                 \n",
            " batch_normalization_6 (Bat  (None, 512)               2048      \n",
            " chNormalization)                                                \n",
            "                                                                 \n",
            " dropout_6 (Dropout)         (None, 512)               0         \n",
            "                                                                 \n",
            " dense_7 (Dense)             (None, 256)               131328    \n",
            "                                                                 \n",
            " batch_normalization_7 (Bat  (None, 256)               1024      \n",
            " chNormalization)                                                \n",
            "                                                                 \n",
            " dropout_7 (Dropout)         (None, 256)               0         \n",
            "                                                                 \n",
            " dense_8 (Dense)             (None, 128)               32896     \n",
            "                                                                 \n",
            " batch_normalization_8 (Bat  (None, 128)               512       \n",
            " chNormalization)                                                \n",
            "                                                                 \n",
            " dropout_8 (Dropout)         (None, 128)               0         \n",
            "                                                                 \n",
            " dense_9 (Dense)             (None, 64)                8256      \n",
            "                                                                 \n",
            " batch_normalization_9 (Bat  (None, 64)                256       \n",
            " chNormalization)                                                \n",
            "                                                                 \n",
            " dropout_9 (Dropout)         (None, 64)                0         \n",
            "                                                                 \n",
            " dense_10 (Dense)            (None, 7)                 455       \n",
            "                                                                 \n",
            "=================================================================\n",
            "Total params: 19468935 (74.27 MB)\n",
            "Trainable params: 19458311 (74.23 MB)\n",
            "Non-trainable params: 10624 (41.50 KB)\n",
            "_________________________________________________________________\n"
          ]
        }
      ],
      "source": [
        "if config.mode=='conv':\n",
        "  X,y = build_rand_feat()\n",
        "  y_flat = np.argmax(y, axis=1)\n",
        "  input_shape = (X.shape[1], X.shape[2], 1)\n",
        "  model = get_conv_model()\n",
        "elif config.mode=='time':\n",
        "  X,y = build_rand_feat()\n",
        "  y_flat = np.argmax(y, axis=1)\n",
        "  input_shape = (X.shape[1], X.shape[2])\n",
        "  model = get_recurrent_model()"
      ]
    },
    {
      "cell_type": "code",
      "execution_count": 59,
      "metadata": {
        "id": "XqiUSJvlk1Yr",
        "colab": {
          "base_uri": "https://localhost:8080/"
        },
        "outputId": "64c2e8dc-3286-4ca9-e06a-b99d394766bb"
      },
      "outputs": [
        {
          "output_type": "execute_result",
          "data": {
            "text/plain": [
              "(13, 9, 1)"
            ]
          },
          "metadata": {},
          "execution_count": 59
        }
      ],
      "source": [
        "input_shape"
      ]
    },
    {
      "cell_type": "code",
      "execution_count": 60,
      "metadata": {
        "id": "g30B7poOV5XZ"
      },
      "outputs": [],
      "source": [
        "class_weight = compute_class_weight(class_weight='balanced', classes=np.unique(y_flat), y=y_flat)\n",
        "class_weight = {i: class_weight[i] for i in range(len(class_weight))}\n"
      ]
    },
    {
      "cell_type": "code",
      "execution_count": 61,
      "metadata": {
        "id": "GvOvdET_RaBr",
        "colab": {
          "base_uri": "https://localhost:8080/"
        },
        "outputId": "437e1122-5fe1-4a42-d00a-daa5b238cb85"
      },
      "outputs": [
        {
          "output_type": "execute_result",
          "data": {
            "text/plain": [
              "{0: 1.034869460947294,\n",
              " 1: 0.8723624208869847,\n",
              " 2: 1.1450130788424282,\n",
              " 3: 1.0345240933083604,\n",
              " 4: 1.0068273411814614,\n",
              " 5: 0.9028894793468505,\n",
              " 6: 1.0563820095001635}"
            ]
          },
          "metadata": {},
          "execution_count": 61
        }
      ],
      "source": [
        "class_weight"
      ]
    },
    {
      "cell_type": "code",
      "execution_count": 62,
      "metadata": {
        "id": "1_WkP7BHRL-j",
        "colab": {
          "base_uri": "https://localhost:8080/"
        },
        "outputId": "37d4c014-90a2-450d-c72b-b424896b97c3"
      },
      "outputs": [
        {
          "output_type": "stream",
          "name": "stdout",
          "text": [
            "Model: \"sequential_1\"\n",
            "_________________________________________________________________\n",
            " Layer (type)                Output Shape              Param #   \n",
            "=================================================================\n",
            " conv2d (Conv2D)             (None, 13, 9, 256)        2560      \n",
            "                                                                 \n",
            " batch_normalization (Batch  (None, 13, 9, 256)        1024      \n",
            " Normalization)                                                  \n",
            "                                                                 \n",
            " conv2d_1 (Conv2D)           (None, 13, 9, 512)        1180160   \n",
            "                                                                 \n",
            " batch_normalization_1 (Bat  (None, 13, 9, 512)        2048      \n",
            " chNormalization)                                                \n",
            "                                                                 \n",
            " max_pooling2d (MaxPooling2  (None, 6, 4, 512)         0         \n",
            " D)                                                              \n",
            "                                                                 \n",
            " dropout_2 (Dropout)         (None, 6, 4, 512)         0         \n",
            "                                                                 \n",
            " conv2d_2 (Conv2D)           (None, 6, 4, 512)         2359808   \n",
            "                                                                 \n",
            " batch_normalization_2 (Bat  (None, 6, 4, 512)         2048      \n",
            " chNormalization)                                                \n",
            "                                                                 \n",
            " conv2d_3 (Conv2D)           (None, 6, 4, 1024)        4719616   \n",
            "                                                                 \n",
            " batch_normalization_3 (Bat  (None, 6, 4, 1024)        4096      \n",
            " chNormalization)                                                \n",
            "                                                                 \n",
            " max_pooling2d_1 (MaxPoolin  (None, 3, 2, 1024)        0         \n",
            " g2D)                                                            \n",
            "                                                                 \n",
            " dropout_3 (Dropout)         (None, 3, 2, 1024)        0         \n",
            "                                                                 \n",
            " conv2d_4 (Conv2D)           (None, 3, 2, 1024)        9438208   \n",
            "                                                                 \n",
            " batch_normalization_4 (Bat  (None, 3, 2, 1024)        4096      \n",
            " chNormalization)                                                \n",
            "                                                                 \n",
            " max_pooling2d_2 (MaxPoolin  (None, 1, 1, 1024)        0         \n",
            " g2D)                                                            \n",
            "                                                                 \n",
            " dropout_4 (Dropout)         (None, 1, 1, 1024)        0         \n",
            "                                                                 \n",
            " flatten_1 (Flatten)         (None, 1024)              0         \n",
            "                                                                 \n",
            " dense_5 (Dense)             (None, 1024)              1049600   \n",
            "                                                                 \n",
            " batch_normalization_5 (Bat  (None, 1024)              4096      \n",
            " chNormalization)                                                \n",
            "                                                                 \n",
            " dropout_5 (Dropout)         (None, 1024)              0         \n",
            "                                                                 \n",
            " dense_6 (Dense)             (None, 512)               524800    \n",
            "                                                                 \n",
            " batch_normalization_6 (Bat  (None, 512)               2048      \n",
            " chNormalization)                                                \n",
            "                                                                 \n",
            " dropout_6 (Dropout)         (None, 512)               0         \n",
            "                                                                 \n",
            " dense_7 (Dense)             (None, 256)               131328    \n",
            "                                                                 \n",
            " batch_normalization_7 (Bat  (None, 256)               1024      \n",
            " chNormalization)                                                \n",
            "                                                                 \n",
            " dropout_7 (Dropout)         (None, 256)               0         \n",
            "                                                                 \n",
            " dense_8 (Dense)             (None, 128)               32896     \n",
            "                                                                 \n",
            " batch_normalization_8 (Bat  (None, 128)               512       \n",
            " chNormalization)                                                \n",
            "                                                                 \n",
            " dropout_8 (Dropout)         (None, 128)               0         \n",
            "                                                                 \n",
            " dense_9 (Dense)             (None, 64)                8256      \n",
            "                                                                 \n",
            " batch_normalization_9 (Bat  (None, 64)                256       \n",
            " chNormalization)                                                \n",
            "                                                                 \n",
            " dropout_9 (Dropout)         (None, 64)                0         \n",
            "                                                                 \n",
            " dense_10 (Dense)            (None, 7)                 455       \n",
            "                                                                 \n",
            "=================================================================\n",
            "Total params: 19468935 (74.27 MB)\n",
            "Trainable params: 19458311 (74.23 MB)\n",
            "Non-trainable params: 10624 (41.50 KB)\n",
            "_________________________________________________________________\n"
          ]
        }
      ],
      "source": [
        "model.summary()"
      ]
    },
    {
      "cell_type": "code",
      "execution_count": 63,
      "metadata": {
        "id": "suHkH36-Xt74",
        "colab": {
          "base_uri": "https://localhost:8080/"
        },
        "outputId": "b1a5e83b-dc76-43c0-ef54-625e7d80bf18"
      },
      "outputs": [
        {
          "output_type": "stream",
          "name": "stderr",
          "text": [
            "WARNING:tensorflow:`period` argument is deprecated. Please use `save_freq` to specify the frequency in number of batches seen.\n"
          ]
        }
      ],
      "source": [
        "checkpoint = ModelCheckpoint(config.model_path, monitor='val_acc', verbose=1, mode='max', save_best_only=True, save_weights_only=False, period=1)"
      ]
    },
    {
      "cell_type": "code",
      "source": [],
      "metadata": {
        "id": "9T8rm48tlkcB"
      },
      "execution_count": 63,
      "outputs": []
    },
    {
      "cell_type": "code",
      "execution_count": 64,
      "metadata": {
        "id": "0hS2yUtyMyQP",
        "colab": {
          "base_uri": "https://localhost:8080/"
        },
        "outputId": "f84c07ab-69f4-4b3c-efe1-e569bafb5c99"
      },
      "outputs": [
        {
          "output_type": "stream",
          "name": "stdout",
          "text": [
            "Epoch 1/65\n",
            "1068/1068 [==============================] - ETA: 0s - loss: 1.9701 - acc: 0.2111\n",
            "Epoch 1: val_acc improved from -inf to 0.25148, saving model to models/conv.model\n",
            "1068/1068 [==============================] - 101s 79ms/step - loss: 1.9701 - acc: 0.2111 - val_loss: 1.7456 - val_acc: 0.2515\n",
            "Epoch 2/65\n",
            "1068/1068 [==============================] - ETA: 0s - loss: 1.6609 - acc: 0.3166\n",
            "Epoch 2: val_acc improved from 0.25148 to 0.39546, saving model to models/conv.model\n",
            "1068/1068 [==============================] - 80s 75ms/step - loss: 1.6609 - acc: 0.3166 - val_loss: 1.5113 - val_acc: 0.3955\n",
            "Epoch 3/65\n",
            "1068/1068 [==============================] - ETA: 0s - loss: 1.4775 - acc: 0.4258\n",
            "Epoch 3: val_acc improved from 0.39546 to 0.43825, saving model to models/conv.model\n",
            "1068/1068 [==============================] - 82s 77ms/step - loss: 1.4775 - acc: 0.4258 - val_loss: 1.4686 - val_acc: 0.4382\n",
            "Epoch 4/65\n",
            "1068/1068 [==============================] - ETA: 0s - loss: 1.3124 - acc: 0.5077\n",
            "Epoch 4: val_acc did not improve from 0.43825\n",
            "1068/1068 [==============================] - 76s 71ms/step - loss: 1.3124 - acc: 0.5077 - val_loss: 2.0077 - val_acc: 0.3995\n",
            "Epoch 5/65\n",
            "1068/1068 [==============================] - ETA: 0s - loss: 1.1924 - acc: 0.5603\n",
            "Epoch 5: val_acc improved from 0.43825 to 0.54839, saving model to models/conv.model\n",
            "1068/1068 [==============================] - 80s 75ms/step - loss: 1.1924 - acc: 0.5603 - val_loss: 1.2296 - val_acc: 0.5484\n",
            "Epoch 6/65\n",
            "1068/1068 [==============================] - ETA: 0s - loss: 1.1081 - acc: 0.5977\n",
            "Epoch 6: val_acc improved from 0.54839 to 0.60296, saving model to models/conv.model\n",
            "1068/1068 [==============================] - 82s 76ms/step - loss: 1.1081 - acc: 0.5977 - val_loss: 1.0808 - val_acc: 0.6030\n",
            "Epoch 7/65\n",
            "1068/1068 [==============================] - ETA: 0s - loss: 1.0440 - acc: 0.6239\n",
            "Epoch 7: val_acc did not improve from 0.60296\n",
            "1068/1068 [==============================] - 75s 71ms/step - loss: 1.0440 - acc: 0.6239 - val_loss: 1.1281 - val_acc: 0.5818\n",
            "Epoch 8/65\n",
            "1068/1068 [==============================] - ETA: 0s - loss: 0.9800 - acc: 0.6477\n",
            "Epoch 8: val_acc improved from 0.60296 to 0.66037, saving model to models/conv.model\n",
            "1068/1068 [==============================] - 81s 76ms/step - loss: 0.9800 - acc: 0.6477 - val_loss: 0.9190 - val_acc: 0.6604\n",
            "Epoch 9/65\n",
            "1068/1068 [==============================] - ETA: 0s - loss: 0.9252 - acc: 0.6720\n",
            "Epoch 9: val_acc did not improve from 0.66037\n",
            "1068/1068 [==============================] - 76s 71ms/step - loss: 0.9252 - acc: 0.6720 - val_loss: 0.9699 - val_acc: 0.6483\n",
            "Epoch 10/65\n",
            "1068/1068 [==============================] - ETA: 0s - loss: 0.8769 - acc: 0.6919\n",
            "Epoch 10: val_acc did not improve from 0.66037\n",
            "1068/1068 [==============================] - 76s 71ms/step - loss: 0.8769 - acc: 0.6919 - val_loss: 0.9411 - val_acc: 0.6597\n",
            "Epoch 11/65\n",
            "1068/1068 [==============================] - ETA: 0s - loss: 0.8237 - acc: 0.7118\n",
            "Epoch 11: val_acc improved from 0.66037 to 0.69045, saving model to models/conv.model\n",
            "1068/1068 [==============================] - 81s 76ms/step - loss: 0.8237 - acc: 0.7118 - val_loss: 0.8845 - val_acc: 0.6905\n",
            "Epoch 12/65\n",
            "1068/1068 [==============================] - ETA: 0s - loss: 0.7818 - acc: 0.7298\n",
            "Epoch 12: val_acc improved from 0.69045 to 0.73384, saving model to models/conv.model\n",
            "1068/1068 [==============================] - 82s 77ms/step - loss: 0.7818 - acc: 0.7298 - val_loss: 0.7548 - val_acc: 0.7338\n",
            "Epoch 13/65\n",
            "1068/1068 [==============================] - ETA: 0s - loss: 0.7355 - acc: 0.7462\n",
            "Epoch 13: val_acc did not improve from 0.73384\n",
            "1068/1068 [==============================] - 76s 71ms/step - loss: 0.7355 - acc: 0.7462 - val_loss: 0.9107 - val_acc: 0.6935\n",
            "Epoch 14/65\n",
            "1068/1068 [==============================] - ETA: 0s - loss: 0.6995 - acc: 0.7601\n",
            "Epoch 14: val_acc improved from 0.73384 to 0.76221, saving model to models/conv.model\n",
            "1068/1068 [==============================] - 82s 77ms/step - loss: 0.6995 - acc: 0.7601 - val_loss: 0.6792 - val_acc: 0.7622\n",
            "Epoch 15/65\n",
            "1068/1068 [==============================] - ETA: 0s - loss: 0.6510 - acc: 0.7804\n",
            "Epoch 15: val_acc did not improve from 0.76221\n",
            "1068/1068 [==============================] - 76s 71ms/step - loss: 0.6510 - acc: 0.7804 - val_loss: 0.8446 - val_acc: 0.7169\n",
            "Epoch 16/65\n",
            "1068/1068 [==============================] - ETA: 0s - loss: 0.6195 - acc: 0.7921\n",
            "Epoch 16: val_acc did not improve from 0.76221\n",
            "1068/1068 [==============================] - 75s 71ms/step - loss: 0.6195 - acc: 0.7921 - val_loss: 0.7595 - val_acc: 0.7493\n",
            "Epoch 17/65\n",
            "1068/1068 [==============================] - ETA: 0s - loss: 0.5811 - acc: 0.8048\n",
            "Epoch 17: val_acc improved from 0.76221 to 0.76623, saving model to models/conv.model\n",
            "1068/1068 [==============================] - 80s 75ms/step - loss: 0.5811 - acc: 0.8048 - val_loss: 0.6852 - val_acc: 0.7662\n",
            "Epoch 18/65\n",
            "1068/1068 [==============================] - ETA: 0s - loss: 0.5511 - acc: 0.8161\n",
            "Epoch 18: val_acc did not improve from 0.76623\n",
            "1068/1068 [==============================] - 75s 70ms/step - loss: 0.5511 - acc: 0.8161 - val_loss: 0.7150 - val_acc: 0.7614\n",
            "Epoch 19/65\n",
            "1068/1068 [==============================] - ETA: 0s - loss: 0.5171 - acc: 0.8292\n",
            "Epoch 19: val_acc did not improve from 0.76623\n",
            "1068/1068 [==============================] - 75s 70ms/step - loss: 0.5171 - acc: 0.8292 - val_loss: 0.7703 - val_acc: 0.7471\n",
            "Epoch 20/65\n",
            "1068/1068 [==============================] - ETA: 0s - loss: 0.4932 - acc: 0.8370\n",
            "Epoch 20: val_acc improved from 0.76623 to 0.78841, saving model to models/conv.model\n",
            "1068/1068 [==============================] - 80s 75ms/step - loss: 0.4932 - acc: 0.8370 - val_loss: 0.6362 - val_acc: 0.7884\n",
            "Epoch 21/65\n",
            "1068/1068 [==============================] - ETA: 0s - loss: 0.4698 - acc: 0.8471\n",
            "Epoch 21: val_acc improved from 0.78841 to 0.80375, saving model to models/conv.model\n",
            "1068/1068 [==============================] - 80s 75ms/step - loss: 0.4698 - acc: 0.8471 - val_loss: 0.6013 - val_acc: 0.8038\n",
            "Epoch 22/65\n",
            "1068/1068 [==============================] - ETA: 0s - loss: 0.4410 - acc: 0.8555\n",
            "Epoch 22: val_acc improved from 0.80375 to 0.81178, saving model to models/conv.model\n",
            "1068/1068 [==============================] - 82s 77ms/step - loss: 0.4410 - acc: 0.8555 - val_loss: 0.5952 - val_acc: 0.8118\n",
            "Epoch 23/65\n",
            "1068/1068 [==============================] - ETA: 0s - loss: 0.4221 - acc: 0.8615\n",
            "Epoch 23: val_acc improved from 0.81178 to 0.81560, saving model to models/conv.model\n",
            "1068/1068 [==============================] - 80s 75ms/step - loss: 0.4221 - acc: 0.8615 - val_loss: 0.5944 - val_acc: 0.8156\n",
            "Epoch 24/65\n",
            "1068/1068 [==============================] - ETA: 0s - loss: 0.4023 - acc: 0.8685\n",
            "Epoch 24: val_acc did not improve from 0.81560\n",
            "1068/1068 [==============================] - 75s 70ms/step - loss: 0.4023 - acc: 0.8685 - val_loss: 0.6154 - val_acc: 0.8102\n",
            "Epoch 25/65\n",
            "1068/1068 [==============================] - ETA: 0s - loss: 0.3842 - acc: 0.8749\n",
            "Epoch 25: val_acc improved from 0.81560 to 0.82304, saving model to models/conv.model\n",
            "1068/1068 [==============================] - 80s 75ms/step - loss: 0.3842 - acc: 0.8749 - val_loss: 0.5634 - val_acc: 0.8230\n",
            "Epoch 26/65\n",
            "1068/1068 [==============================] - ETA: 0s - loss: 0.3686 - acc: 0.8803\n",
            "Epoch 26: val_acc did not improve from 0.82304\n",
            "1068/1068 [==============================] - 75s 70ms/step - loss: 0.3686 - acc: 0.8803 - val_loss: 0.5971 - val_acc: 0.8143\n",
            "Epoch 27/65\n",
            "1068/1068 [==============================] - ETA: 0s - loss: 0.3526 - acc: 0.8857\n",
            "Epoch 27: val_acc improved from 0.82304 to 0.82357, saving model to models/conv.model\n",
            "1068/1068 [==============================] - 81s 75ms/step - loss: 0.3526 - acc: 0.8857 - val_loss: 0.5790 - val_acc: 0.8236\n",
            "Epoch 28/65\n",
            "1068/1068 [==============================] - ETA: 0s - loss: 0.3363 - acc: 0.8912\n",
            "Epoch 28: val_acc improved from 0.82357 to 0.82725, saving model to models/conv.model\n",
            "1068/1068 [==============================] - 81s 76ms/step - loss: 0.3363 - acc: 0.8912 - val_loss: 0.5749 - val_acc: 0.8273\n",
            "Epoch 29/65\n",
            "1068/1068 [==============================] - ETA: 0s - loss: 0.3246 - acc: 0.8952\n",
            "Epoch 29: val_acc did not improve from 0.82725\n",
            "1068/1068 [==============================] - 75s 71ms/step - loss: 0.3246 - acc: 0.8952 - val_loss: 0.6228 - val_acc: 0.8163\n",
            "Epoch 30/65\n",
            "1068/1068 [==============================] - ETA: 0s - loss: 0.3070 - acc: 0.9005\n",
            "Epoch 30: val_acc did not improve from 0.82725\n",
            "1068/1068 [==============================] - 75s 70ms/step - loss: 0.3070 - acc: 0.9005 - val_loss: 0.6038 - val_acc: 0.8195\n",
            "Epoch 31/65\n",
            "1068/1068 [==============================] - ETA: 0s - loss: 0.2992 - acc: 0.9037\n",
            "Epoch 31: val_acc did not improve from 0.82725\n",
            "1068/1068 [==============================] - 75s 70ms/step - loss: 0.2992 - acc: 0.9037 - val_loss: 0.5980 - val_acc: 0.8246\n",
            "Epoch 32/65\n",
            "1068/1068 [==============================] - ETA: 0s - loss: 0.2866 - acc: 0.9072\n",
            "Epoch 32: val_acc did not improve from 0.82725\n",
            "1068/1068 [==============================] - 75s 70ms/step - loss: 0.2866 - acc: 0.9072 - val_loss: 0.8159 - val_acc: 0.7648\n",
            "Epoch 33/65\n",
            "1068/1068 [==============================] - ETA: 0s - loss: 0.2770 - acc: 0.9107\n",
            "Epoch 33: val_acc did not improve from 0.82725\n",
            "1068/1068 [==============================] - 75s 70ms/step - loss: 0.2770 - acc: 0.9107 - val_loss: 0.6424 - val_acc: 0.8131\n",
            "Epoch 34/65\n",
            "1068/1068 [==============================] - ETA: 0s - loss: 0.2652 - acc: 0.9143\n",
            "Epoch 34: val_acc did not improve from 0.82725\n",
            "1068/1068 [==============================] - 75s 70ms/step - loss: 0.2652 - acc: 0.9143 - val_loss: 0.5942 - val_acc: 0.8267\n",
            "Epoch 35/65\n",
            "1068/1068 [==============================] - ETA: 0s - loss: 0.2613 - acc: 0.9166\n",
            "Epoch 35: val_acc did not improve from 0.82725\n",
            "1068/1068 [==============================] - 75s 70ms/step - loss: 0.2613 - acc: 0.9166 - val_loss: 0.6086 - val_acc: 0.8257\n",
            "Epoch 36/65\n",
            "1068/1068 [==============================] - ETA: 0s - loss: 0.2510 - acc: 0.9194\n",
            "Epoch 36: val_acc did not improve from 0.82725\n",
            "1068/1068 [==============================] - 75s 70ms/step - loss: 0.2510 - acc: 0.9194 - val_loss: 0.7773 - val_acc: 0.7873\n",
            "Epoch 37/65\n",
            "1068/1068 [==============================] - ETA: 0s - loss: 0.2443 - acc: 0.9218\n",
            "Epoch 37: val_acc improved from 0.82725 to 0.83515, saving model to models/conv.model\n",
            "1068/1068 [==============================] - 80s 75ms/step - loss: 0.2443 - acc: 0.9218 - val_loss: 0.5868 - val_acc: 0.8352\n",
            "Epoch 38/65\n",
            "1068/1068 [==============================] - ETA: 0s - loss: 0.2342 - acc: 0.9251\n",
            "Epoch 38: val_acc did not improve from 0.83515\n",
            "1068/1068 [==============================] - 75s 71ms/step - loss: 0.2342 - acc: 0.9251 - val_loss: 0.6292 - val_acc: 0.8271\n",
            "Epoch 39/65\n",
            "1068/1068 [==============================] - ETA: 0s - loss: 0.2301 - acc: 0.9261\n",
            "Epoch 39: val_acc improved from 0.83515 to 0.84200, saving model to models/conv.model\n",
            "1068/1068 [==============================] - 80s 75ms/step - loss: 0.2301 - acc: 0.9261 - val_loss: 0.5791 - val_acc: 0.8420\n",
            "Epoch 40/65\n",
            "1068/1068 [==============================] - ETA: 0s - loss: 0.2247 - acc: 0.9283\n",
            "Epoch 40: val_acc did not improve from 0.84200\n",
            "1068/1068 [==============================] - 75s 70ms/step - loss: 0.2247 - acc: 0.9283 - val_loss: 0.6312 - val_acc: 0.8300\n",
            "Epoch 41/65\n",
            "1068/1068 [==============================] - ETA: 0s - loss: 0.2170 - acc: 0.9310\n",
            "Epoch 41: val_acc improved from 0.84200 to 0.84496, saving model to models/conv.model\n",
            "1068/1068 [==============================] - 80s 75ms/step - loss: 0.2170 - acc: 0.9310 - val_loss: 0.5709 - val_acc: 0.8450\n",
            "Epoch 42/65\n",
            "1068/1068 [==============================] - ETA: 0s - loss: 0.2090 - acc: 0.9330\n",
            "Epoch 42: val_acc did not improve from 0.84496\n",
            "1068/1068 [==============================] - 75s 70ms/step - loss: 0.2090 - acc: 0.9330 - val_loss: 0.6049 - val_acc: 0.8375\n",
            "Epoch 43/65\n",
            "1068/1068 [==============================] - ETA: 0s - loss: 0.2064 - acc: 0.9345\n",
            "Epoch 43: val_acc did not improve from 0.84496\n",
            "1068/1068 [==============================] - 75s 70ms/step - loss: 0.2064 - acc: 0.9345 - val_loss: 0.6730 - val_acc: 0.8250\n",
            "Epoch 44/65\n",
            "1068/1068 [==============================] - ETA: 0s - loss: 0.1985 - acc: 0.9368\n",
            "Epoch 44: val_acc did not improve from 0.84496\n",
            "1068/1068 [==============================] - 75s 70ms/step - loss: 0.1985 - acc: 0.9368 - val_loss: 0.6182 - val_acc: 0.8359\n",
            "Epoch 45/65\n",
            "1068/1068 [==============================] - ETA: 0s - loss: 0.1958 - acc: 0.9375\n",
            "Epoch 45: val_acc did not improve from 0.84496\n",
            "1068/1068 [==============================] - 75s 71ms/step - loss: 0.1958 - acc: 0.9375 - val_loss: 0.6860 - val_acc: 0.8234\n",
            "Epoch 46/65\n",
            "1068/1068 [==============================] - ETA: 0s - loss: 0.1922 - acc: 0.9391\n",
            "Epoch 46: val_acc did not improve from 0.84496\n",
            "1068/1068 [==============================] - 75s 71ms/step - loss: 0.1922 - acc: 0.9391 - val_loss: 0.6825 - val_acc: 0.8231\n",
            "Epoch 47/65\n",
            "1068/1068 [==============================] - ETA: 0s - loss: 0.1847 - acc: 0.9415\n",
            "Epoch 47: val_acc improved from 0.84496 to 0.84700, saving model to models/conv.model\n",
            "1068/1068 [==============================] - 80s 75ms/step - loss: 0.1847 - acc: 0.9415 - val_loss: 0.5914 - val_acc: 0.8470\n",
            "Epoch 48/65\n",
            "1068/1068 [==============================] - ETA: 0s - loss: 0.1835 - acc: 0.9413\n",
            "Epoch 48: val_acc did not improve from 0.84700\n",
            "1068/1068 [==============================] - 76s 71ms/step - loss: 0.1835 - acc: 0.9413 - val_loss: 1.3307 - val_acc: 0.6987\n",
            "Epoch 49/65\n",
            "1068/1068 [==============================] - ETA: 0s - loss: 0.1762 - acc: 0.9428\n",
            "Epoch 49: val_acc did not improve from 0.84700\n",
            "1068/1068 [==============================] - 75s 70ms/step - loss: 0.1762 - acc: 0.9428 - val_loss: 0.6756 - val_acc: 0.8284\n",
            "Epoch 50/65\n",
            "1068/1068 [==============================] - ETA: 0s - loss: 0.1733 - acc: 0.9446\n",
            "Epoch 50: val_acc did not improve from 0.84700\n",
            "1068/1068 [==============================] - 75s 70ms/step - loss: 0.1733 - acc: 0.9446 - val_loss: 0.6421 - val_acc: 0.8365\n",
            "Epoch 51/65\n",
            "1068/1068 [==============================] - ETA: 0s - loss: 0.1700 - acc: 0.9459\n",
            "Epoch 51: val_acc did not improve from 0.84700\n",
            "1068/1068 [==============================] - 76s 71ms/step - loss: 0.1700 - acc: 0.9459 - val_loss: 0.6336 - val_acc: 0.8389\n",
            "Epoch 52/65\n",
            "1068/1068 [==============================] - ETA: 0s - loss: 0.1665 - acc: 0.9469\n",
            "Epoch 52: val_acc did not improve from 0.84700\n",
            "1068/1068 [==============================] - 75s 70ms/step - loss: 0.1665 - acc: 0.9469 - val_loss: 0.6288 - val_acc: 0.8388\n",
            "Epoch 53/65\n",
            "1068/1068 [==============================] - ETA: 0s - loss: 0.1618 - acc: 0.9494\n",
            "Epoch 53: val_acc did not improve from 0.84700\n",
            "1068/1068 [==============================] - 76s 71ms/step - loss: 0.1618 - acc: 0.9494 - val_loss: 0.6602 - val_acc: 0.8250\n",
            "Epoch 54/65\n",
            "1068/1068 [==============================] - ETA: 0s - loss: 0.1587 - acc: 0.9496\n",
            "Epoch 54: val_acc did not improve from 0.84700\n",
            "1068/1068 [==============================] - 75s 71ms/step - loss: 0.1587 - acc: 0.9496 - val_loss: 0.6104 - val_acc: 0.8463\n",
            "Epoch 55/65\n",
            "1068/1068 [==============================] - ETA: 0s - loss: 0.1570 - acc: 0.9495\n",
            "Epoch 55: val_acc did not improve from 0.84700\n",
            "1068/1068 [==============================] - 76s 71ms/step - loss: 0.1570 - acc: 0.9495 - val_loss: 0.6646 - val_acc: 0.8330\n",
            "Epoch 56/65\n",
            "1068/1068 [==============================] - ETA: 0s - loss: 0.1538 - acc: 0.9522\n",
            "Epoch 56: val_acc did not improve from 0.84700\n",
            "1068/1068 [==============================] - 75s 71ms/step - loss: 0.1538 - acc: 0.9522 - val_loss: 0.7828 - val_acc: 0.8105\n",
            "Epoch 57/65\n",
            "1068/1068 [==============================] - ETA: 0s - loss: 0.1511 - acc: 0.9529\n",
            "Epoch 57: val_acc improved from 0.84700 to 0.84793, saving model to models/conv.model\n",
            "1068/1068 [==============================] - 80s 75ms/step - loss: 0.1511 - acc: 0.9529 - val_loss: 0.6133 - val_acc: 0.8479\n",
            "Epoch 58/65\n",
            "1068/1068 [==============================] - ETA: 0s - loss: 0.1503 - acc: 0.9534\n",
            "Epoch 58: val_acc improved from 0.84793 to 0.84937, saving model to models/conv.model\n",
            "1068/1068 [==============================] - 81s 76ms/step - loss: 0.1503 - acc: 0.9534 - val_loss: 0.6179 - val_acc: 0.8494\n",
            "Epoch 59/65\n",
            "1068/1068 [==============================] - ETA: 0s - loss: 0.1406 - acc: 0.9555\n",
            "Epoch 59: val_acc did not improve from 0.84937\n",
            "1068/1068 [==============================] - 75s 70ms/step - loss: 0.1406 - acc: 0.9555 - val_loss: 0.6464 - val_acc: 0.8455\n",
            "Epoch 60/65\n",
            "1068/1068 [==============================] - ETA: 0s - loss: 0.1435 - acc: 0.9553\n",
            "Epoch 60: val_acc did not improve from 0.84937\n",
            "1068/1068 [==============================] - 75s 70ms/step - loss: 0.1435 - acc: 0.9553 - val_loss: 0.6448 - val_acc: 0.8381\n",
            "Epoch 61/65\n",
            "1068/1068 [==============================] - ETA: 0s - loss: 0.1389 - acc: 0.9562\n",
            "Epoch 61: val_acc did not improve from 0.84937\n",
            "1068/1068 [==============================] - 75s 70ms/step - loss: 0.1389 - acc: 0.9562 - val_loss: 0.6187 - val_acc: 0.8465\n",
            "Epoch 62/65\n",
            "1068/1068 [==============================] - ETA: 0s - loss: 0.1359 - acc: 0.9571\n",
            "Epoch 62: val_acc did not improve from 0.84937\n",
            "1068/1068 [==============================] - 75s 70ms/step - loss: 0.1359 - acc: 0.9571 - val_loss: 0.8653 - val_acc: 0.7931\n",
            "Epoch 63/65\n",
            "1068/1068 [==============================] - ETA: 0s - loss: 0.1359 - acc: 0.9577\n",
            "Epoch 63: val_acc did not improve from 0.84937\n",
            "1068/1068 [==============================] - 76s 71ms/step - loss: 0.1359 - acc: 0.9577 - val_loss: 0.6175 - val_acc: 0.8490\n",
            "Epoch 64/65\n",
            "1068/1068 [==============================] - ETA: 0s - loss: 0.1339 - acc: 0.9579\n",
            "Epoch 64: val_acc improved from 0.84937 to 0.85411, saving model to models/conv.model\n",
            "1068/1068 [==============================] - 81s 76ms/step - loss: 0.1339 - acc: 0.9579 - val_loss: 0.6077 - val_acc: 0.8541\n",
            "Epoch 65/65\n",
            "1068/1068 [==============================] - ETA: 0s - loss: 0.1299 - acc: 0.9588\n",
            "Epoch 65: val_acc did not improve from 0.85411\n",
            "1068/1068 [==============================] - 75s 70ms/step - loss: 0.1299 - acc: 0.9588 - val_loss: 0.6508 - val_acc: 0.8461\n"
          ]
        }
      ],
      "source": [
        "history = model.fit(X, y,\n",
        "          batch_size=batch_size,\n",
        "          epochs=65,\n",
        "          verbose=1,\n",
        "          shuffle=True, class_weight=class_weight, validation_split=0.1, callbacks=[checkpoint])\n"
      ]
    },
    {
      "cell_type": "code",
      "execution_count": 65,
      "metadata": {
        "id": "GwD4utFFVJ6g",
        "colab": {
          "base_uri": "https://localhost:8080/"
        },
        "outputId": "f9506bd2-6bc1-421f-bc14-7f04b5b0a822"
      },
      "outputs": [
        {
          "output_type": "stream",
          "name": "stdout",
          "text": [
            "dict_keys(['loss', 'acc', 'val_loss', 'val_acc'])\n"
          ]
        }
      ],
      "source": [
        "print(history.history.keys())"
      ]
    },
    {
      "cell_type": "code",
      "execution_count": 66,
      "metadata": {
        "id": "1pT4KV1VWt7J"
      },
      "outputs": [],
      "source": [
        "model.save(config.model_path)"
      ]
    },
    {
      "cell_type": "code",
      "execution_count": 67,
      "metadata": {
        "id": "Js1TkhJ1eCRu"
      },
      "outputs": [],
      "source": [
        "import shutil"
      ]
    },
    {
      "cell_type": "code",
      "source": [],
      "metadata": {
        "id": "1cyUYRjg9XNj"
      },
      "execution_count": 67,
      "outputs": []
    },
    {
      "cell_type": "code",
      "execution_count": 73,
      "metadata": {
        "id": "XUmckM5BevS2",
        "colab": {
          "base_uri": "https://localhost:8080/"
        },
        "outputId": "f732116b-4c45-42a4-adee-8c145cdca16c"
      },
      "outputs": [
        {
          "output_type": "stream",
          "name": "stdout",
          "text": [
            "  adding: models/ (stored 0%)\n",
            "  adding: models/time.model/ (stored 0%)\n",
            "  adding: models/time.model/assets/ (stored 0%)\n",
            "  adding: models/time.model/saved_model.pb (deflated 90%)\n",
            "  adding: models/time.model/variables/ (stored 0%)\n",
            "  adding: models/time.model/variables/variables.index (deflated 67%)\n",
            "  adding: models/time.model/variables/variables.data-00000-of-00001 (deflated 7%)\n",
            "  adding: models/time.model/keras_metadata.pb (deflated 93%)\n",
            "  adding: models/time.model/fingerprint.pb (stored 0%)\n",
            "  adding: models/conv.model/ (stored 0%)\n",
            "  adding: models/conv.model/assets/ (stored 0%)\n",
            "  adding: models/conv.model/saved_model.pb (deflated 90%)\n",
            "  adding: models/conv.model/variables/ (stored 0%)\n",
            "  adding: models/conv.model/variables/variables.index (deflated 74%)\n",
            "  adding: models/conv.model/variables/variables.data-00000-of-00001 (deflated 8%)\n",
            "  adding: models/conv.model/keras_metadata.pb (deflated 95%)\n",
            "  adding: models/conv.model/fingerprint.pb (stored 0%)\n",
            "  adding: pickles/ (stored 0%)\n",
            "  adding: pickles/conv.p (deflated 29%)\n",
            "  adding: pickles/time.p (deflated 28%)\n"
          ]
        }
      ],
      "source": [
        "!zip -r ./bestmodels.zip ./models\n",
        "!zip -r ./bestpickles.zip ./pickles"
      ]
    },
    {
      "cell_type": "code",
      "execution_count": 68,
      "metadata": {
        "id": "ifKNbPYPeSQE"
      },
      "outputs": [],
      "source": []
    },
    {
      "cell_type": "code",
      "execution_count": 69,
      "metadata": {
        "id": "CVdp8JRyesZG"
      },
      "outputs": [],
      "source": [
        "# !mkdir ./drive/MyDrive/SUBIINA_acc_model/\n",
        "# !mkdir ./drive/MyDrive/SUBIINA_acc_model/time"
      ]
    },
    {
      "cell_type": "code",
      "source": [
        "shutil.copy('./bestmodels.zip', './drive/MyDrive/')\n",
        "shutil.copy('./bestpickles.zip', './drive/MyDrive/')"
      ],
      "metadata": {
        "id": "SfFifMSZ-adu",
        "colab": {
          "base_uri": "https://localhost:8080/",
          "height": 36
        },
        "outputId": "8d189106-2cbe-4a8e-fdca-dd6264d04ac2"
      },
      "execution_count": 75,
      "outputs": [
        {
          "output_type": "execute_result",
          "data": {
            "text/plain": [
              "'./drive/MyDrive/bestpickles.zip'"
            ],
            "application/vnd.google.colaboratory.intrinsic+json": {
              "type": "string"
            }
          },
          "metadata": {},
          "execution_count": 75
        }
      ]
    },
    {
      "cell_type": "code",
      "source": [],
      "metadata": {
        "id": "slp6WAITQRnv"
      },
      "execution_count": 70,
      "outputs": []
    },
    {
      "cell_type": "code",
      "source": [
        "plt.figure(figsize=(12, 8))\n",
        "\n",
        "# Top subplot for accuracy\n",
        "plt.subplot(2, 1, 1)\n",
        "plt.plot(history.history['acc'], label='Train Accuracy')\n",
        "plt.plot(history.history['val_acc'], label='Validation Accuracy')\n",
        "plt.title('Training and Validation Accuracy')\n",
        "plt.xlabel('Epoch')\n",
        "plt.ylabel('Accuracy')\n",
        "plt.legend()\n",
        "\n",
        "# Bottom subplot for loss\n",
        "plt.subplot(2, 1, 2)\n",
        "plt.plot(history.history['loss'], label='Train Loss')\n",
        "plt.plot(history.history['val_loss'], label='Validation Loss')\n",
        "plt.title('Training and Validation Loss')\n",
        "plt.xlabel('Epoch')\n",
        "plt.ylabel('Loss')\n",
        "plt.legend()\n",
        "\n",
        "# Adjust layout for better spacing\n",
        "plt.tight_layout()\n",
        "\n",
        "plt.savefig('Conv_training_plot.png')\n",
        "plt.show()"
      ],
      "metadata": {
        "id": "tLlrm0_OQjMu",
        "colab": {
          "base_uri": "https://localhost:8080/",
          "height": 459
        },
        "outputId": "d9393455-78c7-40e2-86b4-b4aafd8eef10"
      },
      "execution_count": 71,
      "outputs": [
        {
          "output_type": "display_data",
          "data": {
            "text/plain": [
              "<Figure size 1200x800 with 2 Axes>"
            ],
            "image/png": "[encoded data removed]"
          },
          "metadata": {}
        }
      ]
    },
    {
      "cell_type": "code",
      "source": [
        "print(len(os.listdir('RAV_TESS')))"
      ],
      "metadata": {
        "id": "EGIYNQUbczXb",
        "colab": {
          "base_uri": "https://localhost:8080/"
        },
        "outputId": "7efbc3fa-ebb5-4243-f3ce-90c62904ede8"
      },
      "execution_count": 72,
      "outputs": [
        {
          "output_type": "stream",
          "name": "stdout",
          "text": [
            "3829\n"
          ]
        }
      ]
    },
    {
      "cell_type": "code",
      "source": [],
      "metadata": {
        "id": "u8sDDh7_Byxr"
      },
      "execution_count": 72,
      "outputs": []
    }
  ],
  "metadata": {
    "colab": {
      "provenance": [],
      "gpuType": "T4"
    },
    "kernelspec": {
      "display_name": "Python 3",
      "name": "python3"
    },
    "language_info": {
      "name": "python"
    },
    "accelerator": "GPU"
  },
  "nbformat": 4,
  "nbformat_minor": 0
}